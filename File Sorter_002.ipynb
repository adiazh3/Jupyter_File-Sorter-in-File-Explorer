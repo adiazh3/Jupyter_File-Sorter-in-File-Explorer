{
 "cells": [
  {
   "cell_type": "code",
   "execution_count": 91,
   "id": "8aafb449-92fc-4337-98c9-e0a4c4669f10",
   "metadata": {},
   "outputs": [],
   "source": [
    "import os, shutil"
   ]
  },
  {
   "cell_type": "code",
   "execution_count": 93,
   "id": "ef6faa0f-b27a-4abd-82c0-953951d185d6",
   "metadata": {},
   "outputs": [],
   "source": [
    "# insert the path \n",
    "\n",
    "path = r\"C:/Users/Admin/Desktop/CS/Projects/Jupyter Notebook/File Sorter in File Explorer/File Sorter in file explorer/\""
   ]
  },
  {
   "cell_type": "code",
   "execution_count": 95,
   "id": "bf895ea2-83b6-4023-9fee-e9baccfd9aa7",
   "metadata": {},
   "outputs": [],
   "source": [
    "file_name = os.listdir(path)"
   ]
  },
  {
   "cell_type": "code",
   "execution_count": 97,
   "id": "d08160d7-fe4f-4dee-b473-5983ce08d989",
   "metadata": {},
   "outputs": [],
   "source": [
    "# add folder names or remove any \n",
    "\n",
    "folder_name = ['csv files', 'image files', 'text files', 'xlsx files', 'jpg files']\n",
    "\n",
    "for loop in range(0,5):\n",
    "    if not os.path.exists(path + folder_name[loop]):\n",
    "        #print(path + folder_name[loop])    \n",
    "        os.makedirs(path + folder_name[loop])\n",
    "\n",
    "#make sure to insert the ending of the file name and update the folder name accordingly\n",
    "for file in file_name: \n",
    "    if \".csv\" in file and not os.path.exists(path + \"csv files/\" + file):\n",
    "        shutil.move(path + file, path + \"csv files/\" + file)\n",
    "    elif \".png\" in file and not os.path.exists(path + \"image files/\" + file):\n",
    "        shutil.move(path + file, path + \"image files/\" + file)\n",
    "    elif \".txt\" in file and not os.path.exists(path + \"text files/\" + file):\n",
    "        shutil.move(path + file, path + \"text files/\" + file)\n",
    "    elif \".jpg\" in file and not os.path.exists(path + \"jpg files/\" + file):\n",
    "        shutil.move(path + file, path + \"jpg files/\" + file) \n",
    "    elif \".xlsx\" in file and not os.path.exists(path + \"xlsx files/\" + file):\n",
    "        shutil.move(path + file, path + \"xlsx files/\" + file)\n",
    "        "
   ]
  },
  {
   "cell_type": "code",
   "execution_count": null,
   "id": "4de205fd-702f-4e8f-9426-d9b3e4ca7d94",
   "metadata": {},
   "outputs": [],
   "source": []
  }
 ],
 "metadata": {
  "kernelspec": {
   "display_name": "Python 3 (ipykernel)",
   "language": "python",
   "name": "python3"
  },
  "language_info": {
   "codemirror_mode": {
    "name": "ipython",
    "version": 3
   },
   "file_extension": ".py",
   "mimetype": "text/x-python",
   "name": "python",
   "nbconvert_exporter": "python",
   "pygments_lexer": "ipython3",
   "version": "3.12.4"
  }
 },
 "nbformat": 4,
 "nbformat_minor": 5
}
